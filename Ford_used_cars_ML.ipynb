{
 "cells": [
  {
   "cell_type": "markdown",
   "id": "3daa4111",
   "metadata": {},
   "source": [
    "# Price Prediction of Used Ford Cars"
   ]
  },
  {
   "cell_type": "markdown",
   "id": "0e9b1c85",
   "metadata": {},
   "source": [
    "Ford cars are resold depending of various factors such as model, mileage, etc. This datasets includes such information on used Ford cars sold during the years 1996 and 2020. \n",
    "\n",
    "**Attributes/Columns**\n",
    "\n",
    "- model - model of the car\n",
    "- year - year of manufacture\n",
    "- price - price of the car\n",
    "- transmission - type of transmission in the car (Automatic, Manual and Semi-automatic)\n",
    "- mileage - mileage of the car\n",
    "- fuelType - type of fuel used in the car (Petrol, Diesel, Electric, Hybrid and Others)\n",
    "- mpg - miles the car run per gallon\n",
    "- engineSize - size of the engine used in the car\n",
    "\n",
    "**Data Source**\n",
    "<br> https://www.kaggle.com/aishwaryamuthukumar/cars-dataset-audi-bmw-ford-hyundai-skoda-vw"
   ]
  },
  {
   "cell_type": "markdown",
   "id": "191cd15f",
   "metadata": {},
   "source": [
    "### Importing Packages"
   ]
  },
  {
   "cell_type": "code",
   "execution_count": 1,
   "id": "7b88d8a9",
   "metadata": {},
   "outputs": [],
   "source": [
    "import pandas as pd\n",
    "import numpy as np\n",
    "import matplotlib.pyplot as plt\n",
    "import seaborn as sns\n",
    "\n",
    "# to remove warnings \n",
    "import warnings\n",
    "warnings.filterwarnings(action= 'ignore')\n",
    "\n",
    "# to install scikit-learn, <pip install -U scikit-learn> in Command Prompt\n",
    "from sklearn.linear_model import LinearRegression\n",
    "from sklearn.model_selection import train_test_split\n",
    "from sklearn.metrics import mean_absolute_error, mean_squared_error, mean_absolute_percentage_error, r2_score"
   ]
  },
  {
   "cell_type": "markdown",
   "id": "644990a0",
   "metadata": {},
   "source": [
    "### Reading the Dataset"
   ]
  },
  {
   "cell_type": "code",
   "execution_count": 2,
   "id": "871ca779",
   "metadata": {},
   "outputs": [
    {
     "data": {
      "text/html": [
       "<div>\n",
       "<style scoped>\n",
       "    .dataframe tbody tr th:only-of-type {\n",
       "        vertical-align: middle;\n",
       "    }\n",
       "\n",
       "    .dataframe tbody tr th {\n",
       "        vertical-align: top;\n",
       "    }\n",
       "\n",
       "    .dataframe thead th {\n",
       "        text-align: right;\n",
       "    }\n",
       "</style>\n",
       "<table border=\"1\" class=\"dataframe\">\n",
       "  <thead>\n",
       "    <tr style=\"text-align: right;\">\n",
       "      <th></th>\n",
       "      <th>model</th>\n",
       "      <th>year</th>\n",
       "      <th>price</th>\n",
       "      <th>transmission</th>\n",
       "      <th>mileage</th>\n",
       "      <th>fuelType</th>\n",
       "      <th>mpg</th>\n",
       "      <th>engineSize</th>\n",
       "    </tr>\n",
       "  </thead>\n",
       "  <tbody>\n",
       "    <tr>\n",
       "      <th>0</th>\n",
       "      <td>Fiesta</td>\n",
       "      <td>2017</td>\n",
       "      <td>12000</td>\n",
       "      <td>Automatic</td>\n",
       "      <td>15944</td>\n",
       "      <td>Petrol</td>\n",
       "      <td>57.7</td>\n",
       "      <td>1.0</td>\n",
       "    </tr>\n",
       "    <tr>\n",
       "      <th>1</th>\n",
       "      <td>Focus</td>\n",
       "      <td>2018</td>\n",
       "      <td>14000</td>\n",
       "      <td>Manual</td>\n",
       "      <td>9083</td>\n",
       "      <td>Petrol</td>\n",
       "      <td>57.7</td>\n",
       "      <td>1.0</td>\n",
       "    </tr>\n",
       "    <tr>\n",
       "      <th>2</th>\n",
       "      <td>Focus</td>\n",
       "      <td>2017</td>\n",
       "      <td>13000</td>\n",
       "      <td>Manual</td>\n",
       "      <td>12456</td>\n",
       "      <td>Petrol</td>\n",
       "      <td>57.7</td>\n",
       "      <td>1.0</td>\n",
       "    </tr>\n",
       "    <tr>\n",
       "      <th>3</th>\n",
       "      <td>Fiesta</td>\n",
       "      <td>2019</td>\n",
       "      <td>17500</td>\n",
       "      <td>Manual</td>\n",
       "      <td>10460</td>\n",
       "      <td>Petrol</td>\n",
       "      <td>40.3</td>\n",
       "      <td>1.5</td>\n",
       "    </tr>\n",
       "    <tr>\n",
       "      <th>4</th>\n",
       "      <td>Fiesta</td>\n",
       "      <td>2019</td>\n",
       "      <td>16500</td>\n",
       "      <td>Automatic</td>\n",
       "      <td>1482</td>\n",
       "      <td>Petrol</td>\n",
       "      <td>48.7</td>\n",
       "      <td>1.0</td>\n",
       "    </tr>\n",
       "  </tbody>\n",
       "</table>\n",
       "</div>"
      ],
      "text/plain": [
       "     model  year  price transmission  mileage fuelType   mpg  engineSize\n",
       "0   Fiesta  2017  12000    Automatic    15944   Petrol  57.7         1.0\n",
       "1    Focus  2018  14000       Manual     9083   Petrol  57.7         1.0\n",
       "2    Focus  2017  13000       Manual    12456   Petrol  57.7         1.0\n",
       "3   Fiesta  2019  17500       Manual    10460   Petrol  40.3         1.5\n",
       "4   Fiesta  2019  16500    Automatic     1482   Petrol  48.7         1.0"
      ]
     },
     "execution_count": 2,
     "metadata": {},
     "output_type": "execute_result"
    }
   ],
   "source": [
    "# Naming the DataFrame - df\n",
    "# Reading the .xlsx or .csv file using pandas: pd.read_csv(\"<location of dataset>\")\n",
    "df = pd.read_csv(\"ford.csv\")\n",
    "\n",
    "# Displaying the first 5 rows of the DataFrame\n",
    "df.head()"
   ]
  },
  {
   "cell_type": "markdown",
   "id": "b56322da",
   "metadata": {},
   "source": [
    "### Number of rows and columns"
   ]
  },
  {
   "cell_type": "code",
   "execution_count": 3,
   "id": "cbb5b91d",
   "metadata": {},
   "outputs": [
    {
     "data": {
      "text/plain": [
       "(17964, 8)"
      ]
     },
     "execution_count": 3,
     "metadata": {},
     "output_type": "execute_result"
    }
   ],
   "source": [
    "# <name_of_DataFrame>.shape\n",
    "df.shape\n",
    "\n",
    "# output - (total number of rows, total number of columns)"
   ]
  },
  {
   "cell_type": "markdown",
   "id": "1caf0e2d",
   "metadata": {},
   "source": [
    "###  Data Types and Missing Values"
   ]
  },
  {
   "cell_type": "code",
   "execution_count": 4,
   "id": "a7d9f4a1",
   "metadata": {},
   "outputs": [
    {
     "name": "stdout",
     "output_type": "stream",
     "text": [
      "<class 'pandas.core.frame.DataFrame'>\n",
      "RangeIndex: 17964 entries, 0 to 17963\n",
      "Data columns (total 8 columns):\n",
      " #   Column        Non-Null Count  Dtype  \n",
      "---  ------        --------------  -----  \n",
      " 0   model         17964 non-null  object \n",
      " 1   year          17964 non-null  int64  \n",
      " 2   price         17964 non-null  int64  \n",
      " 3   transmission  17964 non-null  object \n",
      " 4   mileage       17964 non-null  int64  \n",
      " 5   fuelType      17964 non-null  object \n",
      " 6   mpg           17964 non-null  float64\n",
      " 7   engineSize    17964 non-null  float64\n",
      "dtypes: float64(2), int64(3), object(3)\n",
      "memory usage: 1.1+ MB\n"
     ]
    },
    {
     "data": {
      "text/plain": [
       "None"
      ]
     },
     "metadata": {},
     "output_type": "display_data"
    }
   ],
   "source": [
    "# <name_of_DataFrame>.info()\n",
    "display(df.info())"
   ]
  },
  {
   "cell_type": "markdown",
   "id": "7d1b74ed",
   "metadata": {},
   "source": [
    "**Overview:**\n",
    "\n",
    "- Total number of observations/rows: 17964 \n",
    "- Total number of attributes/columns: 8\n",
    "- Total number of object (string/mixed) data type: 3 (model, transmission, fuelType)\n",
    "- Total number of integer (positive/negative/zero) data type: 3 (year, price, mileage)\n",
    "- Total number of float (floating point number) data type: 2 (mpg, engineSize)\n",
    "- No missing data"
   ]
  },
  {
   "cell_type": "markdown",
   "id": "cc54212a",
   "metadata": {},
   "source": [
    "### Descriptive Statistics"
   ]
  },
  {
   "cell_type": "code",
   "execution_count": 5,
   "id": "5568b1d7",
   "metadata": {},
   "outputs": [
    {
     "data": {
      "text/html": [
       "<div>\n",
       "<style scoped>\n",
       "    .dataframe tbody tr th:only-of-type {\n",
       "        vertical-align: middle;\n",
       "    }\n",
       "\n",
       "    .dataframe tbody tr th {\n",
       "        vertical-align: top;\n",
       "    }\n",
       "\n",
       "    .dataframe thead th {\n",
       "        text-align: right;\n",
       "    }\n",
       "</style>\n",
       "<table border=\"1\" class=\"dataframe\">\n",
       "  <thead>\n",
       "    <tr style=\"text-align: right;\">\n",
       "      <th></th>\n",
       "      <th>year</th>\n",
       "      <th>price</th>\n",
       "      <th>mileage</th>\n",
       "      <th>mpg</th>\n",
       "      <th>engineSize</th>\n",
       "    </tr>\n",
       "  </thead>\n",
       "  <tbody>\n",
       "    <tr>\n",
       "      <th>count</th>\n",
       "      <td>17964.000000</td>\n",
       "      <td>17964.000000</td>\n",
       "      <td>17964.000000</td>\n",
       "      <td>17964.000000</td>\n",
       "      <td>17964.000000</td>\n",
       "    </tr>\n",
       "    <tr>\n",
       "      <th>mean</th>\n",
       "      <td>2016.864173</td>\n",
       "      <td>12280.078435</td>\n",
       "      <td>23361.880149</td>\n",
       "      <td>57.907832</td>\n",
       "      <td>1.350824</td>\n",
       "    </tr>\n",
       "    <tr>\n",
       "      <th>std</th>\n",
       "      <td>2.024987</td>\n",
       "      <td>4741.318119</td>\n",
       "      <td>19471.243292</td>\n",
       "      <td>10.125632</td>\n",
       "      <td>0.432383</td>\n",
       "    </tr>\n",
       "    <tr>\n",
       "      <th>min</th>\n",
       "      <td>1996.000000</td>\n",
       "      <td>495.000000</td>\n",
       "      <td>1.000000</td>\n",
       "      <td>20.800000</td>\n",
       "      <td>0.000000</td>\n",
       "    </tr>\n",
       "    <tr>\n",
       "      <th>25%</th>\n",
       "      <td>2016.000000</td>\n",
       "      <td>8999.000000</td>\n",
       "      <td>9987.000000</td>\n",
       "      <td>52.300000</td>\n",
       "      <td>1.000000</td>\n",
       "    </tr>\n",
       "    <tr>\n",
       "      <th>50%</th>\n",
       "      <td>2017.000000</td>\n",
       "      <td>11291.000000</td>\n",
       "      <td>18242.500000</td>\n",
       "      <td>58.900000</td>\n",
       "      <td>1.200000</td>\n",
       "    </tr>\n",
       "    <tr>\n",
       "      <th>75%</th>\n",
       "      <td>2018.000000</td>\n",
       "      <td>15299.000000</td>\n",
       "      <td>31052.000000</td>\n",
       "      <td>65.700000</td>\n",
       "      <td>1.500000</td>\n",
       "    </tr>\n",
       "    <tr>\n",
       "      <th>max</th>\n",
       "      <td>2020.000000</td>\n",
       "      <td>54995.000000</td>\n",
       "      <td>177644.000000</td>\n",
       "      <td>201.800000</td>\n",
       "      <td>5.000000</td>\n",
       "    </tr>\n",
       "  </tbody>\n",
       "</table>\n",
       "</div>"
      ],
      "text/plain": [
       "               year         price        mileage           mpg    engineSize\n",
       "count  17964.000000  17964.000000   17964.000000  17964.000000  17964.000000\n",
       "mean    2016.864173  12280.078435   23361.880149     57.907832      1.350824\n",
       "std        2.024987   4741.318119   19471.243292     10.125632      0.432383\n",
       "min     1996.000000    495.000000       1.000000     20.800000      0.000000\n",
       "25%     2016.000000   8999.000000    9987.000000     52.300000      1.000000\n",
       "50%     2017.000000  11291.000000   18242.500000     58.900000      1.200000\n",
       "75%     2018.000000  15299.000000   31052.000000     65.700000      1.500000\n",
       "max     2020.000000  54995.000000  177644.000000    201.800000      5.000000"
      ]
     },
     "execution_count": 5,
     "metadata": {},
     "output_type": "execute_result"
    }
   ],
   "source": [
    "# Creating Descriptive Statistics table\n",
    "# <name_of_DataFrame>.describe()\n",
    "\n",
    "df.describe()"
   ]
  },
  {
   "cell_type": "markdown",
   "id": "95121456",
   "metadata": {},
   "source": [
    "**Observations**\n",
    " - 50% of the data was collected between 2017 and 2020.\n",
    " - The average price of used cars is \\\\$12280. The lowest price is \\\\$495 and highest price is  \\\\$54995 while half of the observations show price below \\\\$11291. \n",
    " - The mileage ranges from 1 to 177644, however, 75% of the observations shows mileage above 9987, with average at 23361.\n",
    " - The mpg varies from 20.8 to 201.\n",
    " - The engine size varies from 0 to 5L."
   ]
  },
  {
   "cell_type": "markdown",
   "id": "520e94ab",
   "metadata": {},
   "source": [
    "### Listing the columns"
   ]
  },
  {
   "cell_type": "code",
   "execution_count": 6,
   "id": "77fbcf99",
   "metadata": {},
   "outputs": [
    {
     "name": "stdout",
     "output_type": "stream",
     "text": [
      "Index(['model', 'year', 'price', 'transmission', 'mileage', 'fuelType', 'mpg',\n",
      "       'engineSize'],\n",
      "      dtype='object')\n"
     ]
    }
   ],
   "source": [
    "print(df.columns)"
   ]
  },
  {
   "cell_type": "markdown",
   "id": "4fe57552",
   "metadata": {},
   "source": [
    "### Encoding categorical variables using One-Hot encoder\n",
    "Instead of using label encoding, the categorical variables are encoded using One-hot because they are classified into multiclass and since there is no ranking or order in the categorization, one-hot encoder is best suited for this project. "
   ]
  },
  {
   "cell_type": "code",
   "execution_count": 7,
   "id": "f326c3f8",
   "metadata": {},
   "outputs": [
    {
     "name": "stdout",
     "output_type": "stream",
     "text": [
      "Index(['year', 'price', 'mileage', 'mpg', 'engineSize', 'model_ C-MAX',\n",
      "       'model_ EcoSport', 'model_ Edge', 'model_ Escort', 'model_ Fiesta',\n",
      "       'model_ Focus', 'model_ Fusion', 'model_ Galaxy', 'model_ Grand C-MAX',\n",
      "       'model_ Grand Tourneo Connect', 'model_ KA', 'model_ Ka+',\n",
      "       'model_ Kuga', 'model_ Mondeo', 'model_ Mustang', 'model_ Puma',\n",
      "       'model_ Ranger', 'model_ S-MAX', 'model_ Streetka',\n",
      "       'model_ Tourneo Connect', 'model_ Tourneo Custom',\n",
      "       'model_ Transit Tourneo', 'transmission_Manual',\n",
      "       'transmission_Semi-Auto', 'fuelType_Electric', 'fuelType_Hybrid',\n",
      "       'fuelType_Other', 'fuelType_Petrol'],\n",
      "      dtype='object')\n"
     ]
    }
   ],
   "source": [
    "# drop_first is used to drop the first column created; this is specified to avoid multicollinearity\n",
    "df = pd.get_dummies(df, drop_first=True)\n",
    "print(df.columns)"
   ]
  },
  {
   "cell_type": "markdown",
   "id": "332e31e9",
   "metadata": {},
   "source": [
    "### Displaying the new columns with data "
   ]
  },
  {
   "cell_type": "code",
   "execution_count": 8,
   "id": "b0770dea",
   "metadata": {},
   "outputs": [
    {
     "data": {
      "text/html": [
       "<div>\n",
       "<style scoped>\n",
       "    .dataframe tbody tr th:only-of-type {\n",
       "        vertical-align: middle;\n",
       "    }\n",
       "\n",
       "    .dataframe tbody tr th {\n",
       "        vertical-align: top;\n",
       "    }\n",
       "\n",
       "    .dataframe thead th {\n",
       "        text-align: right;\n",
       "    }\n",
       "</style>\n",
       "<table border=\"1\" class=\"dataframe\">\n",
       "  <thead>\n",
       "    <tr style=\"text-align: right;\">\n",
       "      <th></th>\n",
       "      <th>year</th>\n",
       "      <th>price</th>\n",
       "      <th>mileage</th>\n",
       "      <th>mpg</th>\n",
       "      <th>engineSize</th>\n",
       "      <th>model_ C-MAX</th>\n",
       "      <th>model_ EcoSport</th>\n",
       "      <th>model_ Edge</th>\n",
       "      <th>model_ Escort</th>\n",
       "      <th>model_ Fiesta</th>\n",
       "      <th>model_ Focus</th>\n",
       "      <th>model_ Fusion</th>\n",
       "      <th>model_ Galaxy</th>\n",
       "      <th>model_ Grand C-MAX</th>\n",
       "      <th>model_ Grand Tourneo Connect</th>\n",
       "      <th>model_ KA</th>\n",
       "      <th>model_ Ka+</th>\n",
       "      <th>model_ Kuga</th>\n",
       "      <th>model_ Mondeo</th>\n",
       "      <th>model_ Mustang</th>\n",
       "      <th>model_ Puma</th>\n",
       "      <th>model_ Ranger</th>\n",
       "      <th>model_ S-MAX</th>\n",
       "      <th>model_ Streetka</th>\n",
       "      <th>model_ Tourneo Connect</th>\n",
       "      <th>model_ Tourneo Custom</th>\n",
       "      <th>model_ Transit Tourneo</th>\n",
       "      <th>transmission_Manual</th>\n",
       "      <th>transmission_Semi-Auto</th>\n",
       "      <th>fuelType_Electric</th>\n",
       "      <th>fuelType_Hybrid</th>\n",
       "      <th>fuelType_Other</th>\n",
       "      <th>fuelType_Petrol</th>\n",
       "    </tr>\n",
       "  </thead>\n",
       "  <tbody>\n",
       "    <tr>\n",
       "      <th>0</th>\n",
       "      <td>2017</td>\n",
       "      <td>12000</td>\n",
       "      <td>15944</td>\n",
       "      <td>57.7</td>\n",
       "      <td>1.0</td>\n",
       "      <td>0</td>\n",
       "      <td>0</td>\n",
       "      <td>0</td>\n",
       "      <td>0</td>\n",
       "      <td>1</td>\n",
       "      <td>0</td>\n",
       "      <td>0</td>\n",
       "      <td>0</td>\n",
       "      <td>0</td>\n",
       "      <td>0</td>\n",
       "      <td>0</td>\n",
       "      <td>0</td>\n",
       "      <td>0</td>\n",
       "      <td>0</td>\n",
       "      <td>0</td>\n",
       "      <td>0</td>\n",
       "      <td>0</td>\n",
       "      <td>0</td>\n",
       "      <td>0</td>\n",
       "      <td>0</td>\n",
       "      <td>0</td>\n",
       "      <td>0</td>\n",
       "      <td>0</td>\n",
       "      <td>0</td>\n",
       "      <td>0</td>\n",
       "      <td>0</td>\n",
       "      <td>0</td>\n",
       "      <td>1</td>\n",
       "    </tr>\n",
       "    <tr>\n",
       "      <th>1</th>\n",
       "      <td>2018</td>\n",
       "      <td>14000</td>\n",
       "      <td>9083</td>\n",
       "      <td>57.7</td>\n",
       "      <td>1.0</td>\n",
       "      <td>0</td>\n",
       "      <td>0</td>\n",
       "      <td>0</td>\n",
       "      <td>0</td>\n",
       "      <td>0</td>\n",
       "      <td>1</td>\n",
       "      <td>0</td>\n",
       "      <td>0</td>\n",
       "      <td>0</td>\n",
       "      <td>0</td>\n",
       "      <td>0</td>\n",
       "      <td>0</td>\n",
       "      <td>0</td>\n",
       "      <td>0</td>\n",
       "      <td>0</td>\n",
       "      <td>0</td>\n",
       "      <td>0</td>\n",
       "      <td>0</td>\n",
       "      <td>0</td>\n",
       "      <td>0</td>\n",
       "      <td>0</td>\n",
       "      <td>0</td>\n",
       "      <td>1</td>\n",
       "      <td>0</td>\n",
       "      <td>0</td>\n",
       "      <td>0</td>\n",
       "      <td>0</td>\n",
       "      <td>1</td>\n",
       "    </tr>\n",
       "    <tr>\n",
       "      <th>2</th>\n",
       "      <td>2017</td>\n",
       "      <td>13000</td>\n",
       "      <td>12456</td>\n",
       "      <td>57.7</td>\n",
       "      <td>1.0</td>\n",
       "      <td>0</td>\n",
       "      <td>0</td>\n",
       "      <td>0</td>\n",
       "      <td>0</td>\n",
       "      <td>0</td>\n",
       "      <td>1</td>\n",
       "      <td>0</td>\n",
       "      <td>0</td>\n",
       "      <td>0</td>\n",
       "      <td>0</td>\n",
       "      <td>0</td>\n",
       "      <td>0</td>\n",
       "      <td>0</td>\n",
       "      <td>0</td>\n",
       "      <td>0</td>\n",
       "      <td>0</td>\n",
       "      <td>0</td>\n",
       "      <td>0</td>\n",
       "      <td>0</td>\n",
       "      <td>0</td>\n",
       "      <td>0</td>\n",
       "      <td>0</td>\n",
       "      <td>1</td>\n",
       "      <td>0</td>\n",
       "      <td>0</td>\n",
       "      <td>0</td>\n",
       "      <td>0</td>\n",
       "      <td>1</td>\n",
       "    </tr>\n",
       "    <tr>\n",
       "      <th>3</th>\n",
       "      <td>2019</td>\n",
       "      <td>17500</td>\n",
       "      <td>10460</td>\n",
       "      <td>40.3</td>\n",
       "      <td>1.5</td>\n",
       "      <td>0</td>\n",
       "      <td>0</td>\n",
       "      <td>0</td>\n",
       "      <td>0</td>\n",
       "      <td>1</td>\n",
       "      <td>0</td>\n",
       "      <td>0</td>\n",
       "      <td>0</td>\n",
       "      <td>0</td>\n",
       "      <td>0</td>\n",
       "      <td>0</td>\n",
       "      <td>0</td>\n",
       "      <td>0</td>\n",
       "      <td>0</td>\n",
       "      <td>0</td>\n",
       "      <td>0</td>\n",
       "      <td>0</td>\n",
       "      <td>0</td>\n",
       "      <td>0</td>\n",
       "      <td>0</td>\n",
       "      <td>0</td>\n",
       "      <td>0</td>\n",
       "      <td>1</td>\n",
       "      <td>0</td>\n",
       "      <td>0</td>\n",
       "      <td>0</td>\n",
       "      <td>0</td>\n",
       "      <td>1</td>\n",
       "    </tr>\n",
       "    <tr>\n",
       "      <th>4</th>\n",
       "      <td>2019</td>\n",
       "      <td>16500</td>\n",
       "      <td>1482</td>\n",
       "      <td>48.7</td>\n",
       "      <td>1.0</td>\n",
       "      <td>0</td>\n",
       "      <td>0</td>\n",
       "      <td>0</td>\n",
       "      <td>0</td>\n",
       "      <td>1</td>\n",
       "      <td>0</td>\n",
       "      <td>0</td>\n",
       "      <td>0</td>\n",
       "      <td>0</td>\n",
       "      <td>0</td>\n",
       "      <td>0</td>\n",
       "      <td>0</td>\n",
       "      <td>0</td>\n",
       "      <td>0</td>\n",
       "      <td>0</td>\n",
       "      <td>0</td>\n",
       "      <td>0</td>\n",
       "      <td>0</td>\n",
       "      <td>0</td>\n",
       "      <td>0</td>\n",
       "      <td>0</td>\n",
       "      <td>0</td>\n",
       "      <td>0</td>\n",
       "      <td>0</td>\n",
       "      <td>0</td>\n",
       "      <td>0</td>\n",
       "      <td>0</td>\n",
       "      <td>1</td>\n",
       "    </tr>\n",
       "  </tbody>\n",
       "</table>\n",
       "</div>"
      ],
      "text/plain": [
       "   year  price  mileage   mpg  engineSize  model_ C-MAX  model_ EcoSport  \\\n",
       "0  2017  12000    15944  57.7         1.0             0                0   \n",
       "1  2018  14000     9083  57.7         1.0             0                0   \n",
       "2  2017  13000    12456  57.7         1.0             0                0   \n",
       "3  2019  17500    10460  40.3         1.5             0                0   \n",
       "4  2019  16500     1482  48.7         1.0             0                0   \n",
       "\n",
       "   model_ Edge  model_ Escort  model_ Fiesta  model_ Focus  model_ Fusion  \\\n",
       "0            0              0              1             0              0   \n",
       "1            0              0              0             1              0   \n",
       "2            0              0              0             1              0   \n",
       "3            0              0              1             0              0   \n",
       "4            0              0              1             0              0   \n",
       "\n",
       "   model_ Galaxy  model_ Grand C-MAX  model_ Grand Tourneo Connect  model_ KA  \\\n",
       "0              0                   0                             0          0   \n",
       "1              0                   0                             0          0   \n",
       "2              0                   0                             0          0   \n",
       "3              0                   0                             0          0   \n",
       "4              0                   0                             0          0   \n",
       "\n",
       "   model_ Ka+  model_ Kuga  model_ Mondeo  model_ Mustang  model_ Puma  \\\n",
       "0           0            0              0               0            0   \n",
       "1           0            0              0               0            0   \n",
       "2           0            0              0               0            0   \n",
       "3           0            0              0               0            0   \n",
       "4           0            0              0               0            0   \n",
       "\n",
       "   model_ Ranger  model_ S-MAX  model_ Streetka  model_ Tourneo Connect  \\\n",
       "0              0             0                0                       0   \n",
       "1              0             0                0                       0   \n",
       "2              0             0                0                       0   \n",
       "3              0             0                0                       0   \n",
       "4              0             0                0                       0   \n",
       "\n",
       "   model_ Tourneo Custom  model_ Transit Tourneo  transmission_Manual  \\\n",
       "0                      0                       0                    0   \n",
       "1                      0                       0                    1   \n",
       "2                      0                       0                    1   \n",
       "3                      0                       0                    1   \n",
       "4                      0                       0                    0   \n",
       "\n",
       "   transmission_Semi-Auto  fuelType_Electric  fuelType_Hybrid  fuelType_Other  \\\n",
       "0                       0                  0                0               0   \n",
       "1                       0                  0                0               0   \n",
       "2                       0                  0                0               0   \n",
       "3                       0                  0                0               0   \n",
       "4                       0                  0                0               0   \n",
       "\n",
       "   fuelType_Petrol  \n",
       "0                1  \n",
       "1                1  \n",
       "2                1  \n",
       "3                1  \n",
       "4                1  "
      ]
     },
     "execution_count": 8,
     "metadata": {},
     "output_type": "execute_result"
    }
   ],
   "source": [
    "# To observe and understand how One-hot encoding works. \n",
    "pd.set_option('display.max_columns', None)\n",
    "df.head()"
   ]
  },
  {
   "cell_type": "markdown",
   "id": "539131cc",
   "metadata": {},
   "source": [
    "### Specifying the feature and target variable for Linear Regression Model"
   ]
  },
  {
   "cell_type": "code",
   "execution_count": 9,
   "id": "c2a19441",
   "metadata": {},
   "outputs": [
    {
     "name": "stdout",
     "output_type": "stream",
     "text": [
      "(17964, 32) (17964, 1)\n"
     ]
    }
   ],
   "source": [
    "# Target variable is price\n",
    "target = ['price']\n",
    "\n",
    "# x are the feature variables, which includes all columns except price (therefore, dropped).\n",
    "X = df.drop('price', axis=1)\n",
    "y = df[target]\n",
    "\n",
    "# printing the no. of rows and column used as feature and target variable.\n",
    "print(X.shape, y.shape)"
   ]
  },
  {
   "cell_type": "markdown",
   "id": "0cf62e47",
   "metadata": {},
   "source": [
    "### Splitting the train and test set"
   ]
  },
  {
   "cell_type": "code",
   "execution_count": 10,
   "id": "8180b978",
   "metadata": {},
   "outputs": [
    {
     "name": "stdout",
     "output_type": "stream",
     "text": [
      "(14371, 32) (3593, 32) (14371, 1) (3593, 1)\n"
     ]
    }
   ],
   "source": [
    "# x_train are the training dataset of feature variables\n",
    "# x_test are the testing dataset of feature variables\n",
    "# y_train are the training dataset of target variables\n",
    "# y_test are the testing dataset of target variables\n",
    "# Split into 80% train and 20% test\n",
    "# random_state = Pseudo random number, specified so that everytime the code is run, it uses the same observations in train and test set \n",
    "\n",
    "X_train, X_test, y_train, y_test = train_test_split(X, y, test_size=0.2, random_state=42)\n",
    "\n",
    "print(X_train.shape, X_test.shape, y_train.shape, y_test.shape)"
   ]
  },
  {
   "cell_type": "markdown",
   "id": "f20559bf",
   "metadata": {},
   "source": [
    "### Running Linear Regression Model"
   ]
  },
  {
   "cell_type": "code",
   "execution_count": 11,
   "id": "5ec44699",
   "metadata": {},
   "outputs": [],
   "source": [
    "model = LinearRegression()\n",
    "model = model.fit(X_train, y_train)"
   ]
  },
  {
   "cell_type": "markdown",
   "id": "df3324d9",
   "metadata": {},
   "source": [
    "### Coefficient of Each Feature Variable"
   ]
  },
  {
   "cell_type": "code",
   "execution_count": 12,
   "id": "2396b73a",
   "metadata": {},
   "outputs": [
    {
     "data": {
      "text/html": [
       "<div>\n",
       "<style scoped>\n",
       "    .dataframe tbody tr th:only-of-type {\n",
       "        vertical-align: middle;\n",
       "    }\n",
       "\n",
       "    .dataframe tbody tr th {\n",
       "        vertical-align: top;\n",
       "    }\n",
       "\n",
       "    .dataframe thead th {\n",
       "        text-align: right;\n",
       "    }\n",
       "</style>\n",
       "<table border=\"1\" class=\"dataframe\">\n",
       "  <thead>\n",
       "    <tr style=\"text-align: right;\">\n",
       "      <th></th>\n",
       "      <th>features</th>\n",
       "      <th>coefficients</th>\n",
       "    </tr>\n",
       "  </thead>\n",
       "  <tbody>\n",
       "    <tr>\n",
       "      <th>15</th>\n",
       "      <td>model_ Ka+</td>\n",
       "      <td>-2969.54742</td>\n",
       "    </tr>\n",
       "    <tr>\n",
       "      <th>26</th>\n",
       "      <td>transmission_Manual</td>\n",
       "      <td>-475.71939</td>\n",
       "    </tr>\n",
       "    <tr>\n",
       "      <th>14</th>\n",
       "      <td>model_ KA</td>\n",
       "      <td>-450.65222</td>\n",
       "    </tr>\n",
       "    <tr>\n",
       "      <th>31</th>\n",
       "      <td>fuelType_Petrol</td>\n",
       "      <td>-225.41749</td>\n",
       "    </tr>\n",
       "    <tr>\n",
       "      <th>27</th>\n",
       "      <td>transmission_Semi-Auto</td>\n",
       "      <td>-147.20169</td>\n",
       "    </tr>\n",
       "    <tr>\n",
       "      <th>2</th>\n",
       "      <td>mpg</td>\n",
       "      <td>-76.59271</td>\n",
       "    </tr>\n",
       "    <tr>\n",
       "      <th>1</th>\n",
       "      <td>mileage</td>\n",
       "      <td>-0.06168</td>\n",
       "    </tr>\n",
       "    <tr>\n",
       "      <th>22</th>\n",
       "      <td>model_ Streetka</td>\n",
       "      <td>-0.00000</td>\n",
       "    </tr>\n",
       "    <tr>\n",
       "      <th>4</th>\n",
       "      <td>model_ C-MAX</td>\n",
       "      <td>1086.99772</td>\n",
       "    </tr>\n",
       "    <tr>\n",
       "      <th>0</th>\n",
       "      <td>year</td>\n",
       "      <td>1123.91310</td>\n",
       "    </tr>\n",
       "    <tr>\n",
       "      <th>8</th>\n",
       "      <td>model_ Fiesta</td>\n",
       "      <td>1146.44521</td>\n",
       "    </tr>\n",
       "    <tr>\n",
       "      <th>30</th>\n",
       "      <td>fuelType_Other</td>\n",
       "      <td>1268.55380</td>\n",
       "    </tr>\n",
       "    <tr>\n",
       "      <th>12</th>\n",
       "      <td>model_ Grand C-MAX</td>\n",
       "      <td>1506.82381</td>\n",
       "    </tr>\n",
       "    <tr>\n",
       "      <th>5</th>\n",
       "      <td>model_ EcoSport</td>\n",
       "      <td>1609.29139</td>\n",
       "    </tr>\n",
       "    <tr>\n",
       "      <th>25</th>\n",
       "      <td>model_ Transit Tourneo</td>\n",
       "      <td>1769.88630</td>\n",
       "    </tr>\n",
       "    <tr>\n",
       "      <th>28</th>\n",
       "      <td>fuelType_Electric</td>\n",
       "      <td>1927.53242</td>\n",
       "    </tr>\n",
       "    <tr>\n",
       "      <th>17</th>\n",
       "      <td>model_ Mondeo</td>\n",
       "      <td>2719.50098</td>\n",
       "    </tr>\n",
       "    <tr>\n",
       "      <th>3</th>\n",
       "      <td>engineSize</td>\n",
       "      <td>2734.63801</td>\n",
       "    </tr>\n",
       "    <tr>\n",
       "      <th>9</th>\n",
       "      <td>model_ Focus</td>\n",
       "      <td>3161.27051</td>\n",
       "    </tr>\n",
       "    <tr>\n",
       "      <th>23</th>\n",
       "      <td>model_ Tourneo Connect</td>\n",
       "      <td>3473.22393</td>\n",
       "    </tr>\n",
       "    <tr>\n",
       "      <th>16</th>\n",
       "      <td>model_ Kuga</td>\n",
       "      <td>3604.02229</td>\n",
       "    </tr>\n",
       "    <tr>\n",
       "      <th>13</th>\n",
       "      <td>model_ Grand Tourneo Connect</td>\n",
       "      <td>4105.35184</td>\n",
       "    </tr>\n",
       "    <tr>\n",
       "      <th>10</th>\n",
       "      <td>model_ Fusion</td>\n",
       "      <td>4142.84213</td>\n",
       "    </tr>\n",
       "    <tr>\n",
       "      <th>20</th>\n",
       "      <td>model_ Ranger</td>\n",
       "      <td>5365.05049</td>\n",
       "    </tr>\n",
       "    <tr>\n",
       "      <th>21</th>\n",
       "      <td>model_ S-MAX</td>\n",
       "      <td>6432.00170</td>\n",
       "    </tr>\n",
       "    <tr>\n",
       "      <th>24</th>\n",
       "      <td>model_ Tourneo Custom</td>\n",
       "      <td>6622.13846</td>\n",
       "    </tr>\n",
       "    <tr>\n",
       "      <th>11</th>\n",
       "      <td>model_ Galaxy</td>\n",
       "      <td>6711.51790</td>\n",
       "    </tr>\n",
       "    <tr>\n",
       "      <th>29</th>\n",
       "      <td>fuelType_Hybrid</td>\n",
       "      <td>7363.24117</td>\n",
       "    </tr>\n",
       "    <tr>\n",
       "      <th>19</th>\n",
       "      <td>model_ Puma</td>\n",
       "      <td>7881.70447</td>\n",
       "    </tr>\n",
       "    <tr>\n",
       "      <th>6</th>\n",
       "      <td>model_ Edge</td>\n",
       "      <td>9092.69560</td>\n",
       "    </tr>\n",
       "    <tr>\n",
       "      <th>18</th>\n",
       "      <td>model_ Mustang</td>\n",
       "      <td>10797.08728</td>\n",
       "    </tr>\n",
       "    <tr>\n",
       "      <th>7</th>\n",
       "      <td>model_ Escort</td>\n",
       "      <td>15153.74792</td>\n",
       "    </tr>\n",
       "  </tbody>\n",
       "</table>\n",
       "</div>"
      ],
      "text/plain": [
       "                        features  coefficients\n",
       "15                    model_ Ka+   -2969.54742\n",
       "26           transmission_Manual    -475.71939\n",
       "14                     model_ KA    -450.65222\n",
       "31               fuelType_Petrol    -225.41749\n",
       "27        transmission_Semi-Auto    -147.20169\n",
       "2                            mpg     -76.59271\n",
       "1                        mileage      -0.06168\n",
       "22               model_ Streetka      -0.00000\n",
       "4                   model_ C-MAX    1086.99772\n",
       "0                           year    1123.91310\n",
       "8                  model_ Fiesta    1146.44521\n",
       "30                fuelType_Other    1268.55380\n",
       "12            model_ Grand C-MAX    1506.82381\n",
       "5                model_ EcoSport    1609.29139\n",
       "25        model_ Transit Tourneo    1769.88630\n",
       "28             fuelType_Electric    1927.53242\n",
       "17                 model_ Mondeo    2719.50098\n",
       "3                     engineSize    2734.63801\n",
       "9                   model_ Focus    3161.27051\n",
       "23        model_ Tourneo Connect    3473.22393\n",
       "16                   model_ Kuga    3604.02229\n",
       "13  model_ Grand Tourneo Connect    4105.35184\n",
       "10                 model_ Fusion    4142.84213\n",
       "20                 model_ Ranger    5365.05049\n",
       "21                  model_ S-MAX    6432.00170\n",
       "24         model_ Tourneo Custom    6622.13846\n",
       "11                 model_ Galaxy    6711.51790\n",
       "29               fuelType_Hybrid    7363.24117\n",
       "19                   model_ Puma    7881.70447\n",
       "6                    model_ Edge    9092.69560\n",
       "18                model_ Mustang   10797.08728\n",
       "7                  model_ Escort   15153.74792"
      ]
     },
     "metadata": {},
     "output_type": "display_data"
    }
   ],
   "source": [
    "coefficients = pd.DataFrame({'features':X.columns, 'coefficients':np.squeeze(model.coef_)})\n",
    "\n",
    "# Changes the scientific notation\n",
    "pd.options.display.float_format = '{:.5f}'.format\n",
    "\n",
    "# Sorts the coefficient column in ascending order\n",
    "coefficients = coefficients.sort_values(by='coefficients')\n",
    "display(coefficients)"
   ]
  },
  {
   "cell_type": "markdown",
   "id": "111612c9",
   "metadata": {},
   "source": [
    "#### Interpretation of the Coefficients\n",
    "Coefficients are mainly used to understand the relationship between target variable and feature variables. \n",
    "1. A positive relationship, shown by a positive sign, indicates that as the value of feature variables increase, the value of target variable also increase. \n",
    "2. A negative relativeship, shown by a negative sign, indicates that as the value of feature variables increases, the value of target variable decreases. \n",
    "For example, one unit change in feature variablle- model_Ka+, the price decreases by 2969."
   ]
  },
  {
   "cell_type": "markdown",
   "id": "463cbaa6",
   "metadata": {},
   "source": [
    "### y-Intercept"
   ]
  },
  {
   "cell_type": "code",
   "execution_count": 13,
   "id": "697900e5",
   "metadata": {},
   "outputs": [
    {
     "data": {
      "text/plain": [
       "array([-2253986.573092])"
      ]
     },
     "execution_count": 13,
     "metadata": {},
     "output_type": "execute_result"
    }
   ],
   "source": [
    "model.intercept_"
   ]
  },
  {
   "cell_type": "markdown",
   "id": "5f910bed",
   "metadata": {},
   "source": [
    "### Price Prediction using Test Set"
   ]
  },
  {
   "cell_type": "code",
   "execution_count": 14,
   "id": "7aada9a4",
   "metadata": {},
   "outputs": [
    {
     "name": "stdout",
     "output_type": "stream",
     "text": [
      "[[14184.68197154]\n",
      " [10656.02555946]\n",
      " [11867.63422553]\n",
      " ...\n",
      " [ 6868.41066093]\n",
      " [ 8979.27683283]\n",
      " [15955.91949667]]\n"
     ]
    }
   ],
   "source": [
    "y_pred = model.predict(X_test)\n",
    "print(y_pred)"
   ]
  },
  {
   "cell_type": "markdown",
   "id": "b840cbcd",
   "metadata": {},
   "source": [
    "### Prediction Error using Mean Absolute Error (MAE) "
   ]
  },
  {
   "cell_type": "code",
   "execution_count": 15,
   "id": "5934520a",
   "metadata": {},
   "outputs": [
    {
     "name": "stdout",
     "output_type": "stream",
     "text": [
      "Mean Absolute Error =  1376.6117960056251\n"
     ]
    }
   ],
   "source": [
    "MAE = mean_absolute_error(y_test, y_pred)\n",
    "print(\"Mean Absolute Error = \", MAE)"
   ]
  },
  {
   "cell_type": "markdown",
   "id": "c0d09b4b",
   "metadata": {},
   "source": [
    "### Prediction Error using Mean Absolute Percentage Error (MAPE) "
   ]
  },
  {
   "cell_type": "code",
   "execution_count": 16,
   "id": "852a44d2",
   "metadata": {},
   "outputs": [
    {
     "name": "stdout",
     "output_type": "stream",
     "text": [
      "Mean Absolute Percentage Error =  14.67075630677347\n"
     ]
    }
   ],
   "source": [
    "MAPE = mean_absolute_percentage_error(y_test, y_pred)\n",
    "print(\"Mean Absolute Percentage Error = \", MAPE*100)"
   ]
  },
  {
   "cell_type": "markdown",
   "id": "afc9a447",
   "metadata": {},
   "source": [
    "### Prediction Error using Mean Squared Error (MSE) "
   ]
  },
  {
   "cell_type": "code",
   "execution_count": 17,
   "id": "3829ae81",
   "metadata": {},
   "outputs": [
    {
     "name": "stdout",
     "output_type": "stream",
     "text": [
      "Mean Squared Error =  3426372.0616999944\n"
     ]
    }
   ],
   "source": [
    "MSE = mean_squared_error(y_test, y_pred)\n",
    "print(\"Mean Squared Error = \", MSE)"
   ]
  },
  {
   "cell_type": "markdown",
   "id": "5b32b1a6",
   "metadata": {},
   "source": [
    "### Prediction Error using Root Mean Squared Error (RMSE) "
   ]
  },
  {
   "cell_type": "code",
   "execution_count": 18,
   "id": "035ad8d0",
   "metadata": {},
   "outputs": [
    {
     "name": "stdout",
     "output_type": "stream",
     "text": [
      "Root Mean Squared Error =  1851.046207337892\n"
     ]
    }
   ],
   "source": [
    "# RMSE is the standard deviation of the residual error\n",
    "\n",
    "RMSE = mean_squared_error(y_test, y_pred, squared=False)\n",
    "print(\"Root Mean Squared Error = \", RMSE)"
   ]
  },
  {
   "cell_type": "markdown",
   "id": "5e88b936",
   "metadata": {},
   "source": [
    "### Prediction Error using Coefficient of Determination (r-squared)"
   ]
  },
  {
   "cell_type": "code",
   "execution_count": 19,
   "id": "e64fbd98",
   "metadata": {},
   "outputs": [
    {
     "name": "stdout",
     "output_type": "stream",
     "text": [
      "coefficient of determination =  0.8484983735532793\n"
     ]
    }
   ],
   "source": [
    "r_squared = r2_score(y_test, y_pred) \n",
    "print(\"coefficient of determination = \", r_squared)"
   ]
  },
  {
   "cell_type": "markdown",
   "id": "d459c956",
   "metadata": {},
   "source": [
    "### Visualization to Compare the Actual Price vs Predicted Price"
   ]
  },
  {
   "cell_type": "code",
   "execution_count": 20,
   "id": "55831fcb",
   "metadata": {},
   "outputs": [
    {
     "data": {
      "image/png": "[encoded data removed]",
      "text/plain": [
       "<Figure size 1872x720 with 1 Axes>"
      ]
     },
     "metadata": {
      "needs_background": "light"
     },
     "output_type": "display_data"
    }
   ],
   "source": [
    "sns.set_context('talk')\n",
    "plt.figure(figsize=(26,10))\n",
    "\n",
    "y_test['pred'] = y_pred\n",
    "y_test['x'] = np.arange(0,y_test.shape[0],1).tolist()\n",
    "\n",
    "# Shows predicted price\n",
    "sns.scatterplot(x='price', y='pred', data=y_test, label='Predicted Price')\n",
    "\n",
    "# Assuming actual price is the same as predicted price, denoted by the red line\n",
    "# This helps to understand how much the predicted price (blue points) is different from the actual price.\n",
    "sns.scatterplot(x='price', y='price', data=y_test, color='red',label='Actual Price == Predicted Price')\n",
    "\n",
    "plt.title(\"Fig. Comparison of Predicted with Actual Price\")\n",
    "plt.ylabel(\"Predicted Price\")\n",
    "plt.xlabel(\"Actual Price\")\n",
    "plt.show()"
   ]
  },
  {
   "cell_type": "code",
   "execution_count": null,
   "id": "548cb8b4",
   "metadata": {},
   "outputs": [],
   "source": [
    " "
   ]
  }
 ],
 "metadata": {
  "kernelspec": {
   "display_name": "Python 3 (ipykernel)",
   "language": "python",
   "name": "python3"
  },
  "language_info": {
   "codemirror_mode": {
    "name": "ipython",
    "version": 3
   },
   "file_extension": ".py",
   "mimetype": "text/x-python",
   "name": "python",
   "nbconvert_exporter": "python",
   "pygments_lexer": "ipython3",
   "version": "3.9.6"
  }
 },
 "nbformat": 4,
 "nbformat_minor": 5
}
