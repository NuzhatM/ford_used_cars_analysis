{
 "cells": [
  {
   "cell_type": "markdown",
   "id": "3daa4111",
   "metadata": {},
   "source": [
    "# Price Prediction of Used Ford Cars"
   ]
  },
  {
   "cell_type": "markdown",
   "id": "0e9b1c85",
   "metadata": {},
   "source": [
    "Ford cars are resold depending of various factors such as model, mileage, etc. This datasets includes such information on used Ford cars sold during the years 1996 and 2020. \n",
    "\n",
    "**Attributes/Columns**\n",
    "\n",
    "- model - model of the car\n",
    "- year - year of manufacture\n",
    "- price - price of the car\n",
    "- transmission - type of transmission in the car (Automatic, Manual and Semi-automatic)\n",
    "- mileage - mileage of the car\n",
    "- fuelType - type of fuel used in the car (Petrol, Diesel, Electric, Hybrid and Others)\n",
    "- mpg - miles the car run per gallon\n",
    "- engineSize - size of the engine used in the car\n",
    "\n",
    "**Data Source**\n",
    "<br> https://www.kaggle.com/aishwaryamuthukumar/cars-dataset-audi-bmw-ford-hyundai-skoda-vw"
   ]
  },
  {
   "cell_type": "markdown",
   "id": "191cd15f",
   "metadata": {},
   "source": [
    "### Importing Packages"
   ]
  },
  {
   "cell_type": "code",
   "execution_count": 1,
   "id": "7b88d8a9",
   "metadata": {},
   "outputs": [],
   "source": [
    "import pandas as pd\n",
    "import numpy as np\n",
    "\n",
    "# to install scikit-learn, <pip install -U scikit-learn> in Command Prompt\n",
    "from sklearn.linear_model import LinearRegression\n",
    "from sklearn.model_selection import train_test_split\n",
    "from sklearn.metrics import mean_squared_error"
   ]
  },
  {
   "cell_type": "markdown",
   "id": "644990a0",
   "metadata": {},
   "source": [
    "### Reading the Dataset"
   ]
  },
  {
   "cell_type": "code",
   "execution_count": 2,
   "id": "871ca779",
   "metadata": {},
   "outputs": [
    {
     "data": {
      "text/html": [
       "<div>\n",
       "<style scoped>\n",
       "    .dataframe tbody tr th:only-of-type {\n",
       "        vertical-align: middle;\n",
       "    }\n",
       "\n",
       "    .dataframe tbody tr th {\n",
       "        vertical-align: top;\n",
       "    }\n",
       "\n",
       "    .dataframe thead th {\n",
       "        text-align: right;\n",
       "    }\n",
       "</style>\n",
       "<table border=\"1\" class=\"dataframe\">\n",
       "  <thead>\n",
       "    <tr style=\"text-align: right;\">\n",
       "      <th></th>\n",
       "      <th>model</th>\n",
       "      <th>year</th>\n",
       "      <th>price</th>\n",
       "      <th>transmission</th>\n",
       "      <th>mileage</th>\n",
       "      <th>fuelType</th>\n",
       "      <th>mpg</th>\n",
       "      <th>engineSize</th>\n",
       "    </tr>\n",
       "  </thead>\n",
       "  <tbody>\n",
       "    <tr>\n",
       "      <th>0</th>\n",
       "      <td>Fiesta</td>\n",
       "      <td>2017</td>\n",
       "      <td>12000</td>\n",
       "      <td>Automatic</td>\n",
       "      <td>15944</td>\n",
       "      <td>Petrol</td>\n",
       "      <td>57.7</td>\n",
       "      <td>1.0</td>\n",
       "    </tr>\n",
       "    <tr>\n",
       "      <th>1</th>\n",
       "      <td>Focus</td>\n",
       "      <td>2018</td>\n",
       "      <td>14000</td>\n",
       "      <td>Manual</td>\n",
       "      <td>9083</td>\n",
       "      <td>Petrol</td>\n",
       "      <td>57.7</td>\n",
       "      <td>1.0</td>\n",
       "    </tr>\n",
       "    <tr>\n",
       "      <th>2</th>\n",
       "      <td>Focus</td>\n",
       "      <td>2017</td>\n",
       "      <td>13000</td>\n",
       "      <td>Manual</td>\n",
       "      <td>12456</td>\n",
       "      <td>Petrol</td>\n",
       "      <td>57.7</td>\n",
       "      <td>1.0</td>\n",
       "    </tr>\n",
       "    <tr>\n",
       "      <th>3</th>\n",
       "      <td>Fiesta</td>\n",
       "      <td>2019</td>\n",
       "      <td>17500</td>\n",
       "      <td>Manual</td>\n",
       "      <td>10460</td>\n",
       "      <td>Petrol</td>\n",
       "      <td>40.3</td>\n",
       "      <td>1.5</td>\n",
       "    </tr>\n",
       "    <tr>\n",
       "      <th>4</th>\n",
       "      <td>Fiesta</td>\n",
       "      <td>2019</td>\n",
       "      <td>16500</td>\n",
       "      <td>Automatic</td>\n",
       "      <td>1482</td>\n",
       "      <td>Petrol</td>\n",
       "      <td>48.7</td>\n",
       "      <td>1.0</td>\n",
       "    </tr>\n",
       "  </tbody>\n",
       "</table>\n",
       "</div>"
      ],
      "text/plain": [
       "     model  year  price transmission  mileage fuelType   mpg  engineSize\n",
       "0   Fiesta  2017  12000    Automatic    15944   Petrol  57.7         1.0\n",
       "1    Focus  2018  14000       Manual     9083   Petrol  57.7         1.0\n",
       "2    Focus  2017  13000       Manual    12456   Petrol  57.7         1.0\n",
       "3   Fiesta  2019  17500       Manual    10460   Petrol  40.3         1.5\n",
       "4   Fiesta  2019  16500    Automatic     1482   Petrol  48.7         1.0"
      ]
     },
     "execution_count": 2,
     "metadata": {},
     "output_type": "execute_result"
    }
   ],
   "source": [
    "# Naming the DataFrame - df\n",
    "# Reading the .xlsx or .csv file using pandas: pd.read_csv(\"<location of dataset>\")\n",
    "df = pd.read_csv(\"ford.csv\")\n",
    "\n",
    "# Displaying the first 5 rows of the DataFrame\n",
    "df.head()"
   ]
  },
  {
   "cell_type": "markdown",
   "id": "b56322da",
   "metadata": {},
   "source": [
    "### Number of rows and columns"
   ]
  },
  {
   "cell_type": "code",
   "execution_count": 3,
   "id": "cbb5b91d",
   "metadata": {},
   "outputs": [
    {
     "data": {
      "text/plain": [
       "(17964, 8)"
      ]
     },
     "execution_count": 3,
     "metadata": {},
     "output_type": "execute_result"
    }
   ],
   "source": [
    "# <name_of_DataFrame>.shape\n",
    "df.shape\n",
    "\n",
    "# output - (total number of rows, total number of columns)"
   ]
  },
  {
   "cell_type": "markdown",
   "id": "1caf0e2d",
   "metadata": {},
   "source": [
    "###  Data Types and Missing Values"
   ]
  },
  {
   "cell_type": "code",
   "execution_count": 4,
   "id": "a7d9f4a1",
   "metadata": {},
   "outputs": [
    {
     "name": "stdout",
     "output_type": "stream",
     "text": [
      "<class 'pandas.core.frame.DataFrame'>\n",
      "RangeIndex: 17964 entries, 0 to 17963\n",
      "Data columns (total 8 columns):\n",
      " #   Column        Non-Null Count  Dtype  \n",
      "---  ------        --------------  -----  \n",
      " 0   model         17964 non-null  object \n",
      " 1   year          17964 non-null  int64  \n",
      " 2   price         17964 non-null  int64  \n",
      " 3   transmission  17964 non-null  object \n",
      " 4   mileage       17964 non-null  int64  \n",
      " 5   fuelType      17964 non-null  object \n",
      " 6   mpg           17964 non-null  float64\n",
      " 7   engineSize    17964 non-null  float64\n",
      "dtypes: float64(2), int64(3), object(3)\n",
      "memory usage: 1.1+ MB\n"
     ]
    },
    {
     "data": {
      "text/plain": [
       "None"
      ]
     },
     "metadata": {},
     "output_type": "display_data"
    }
   ],
   "source": [
    "# <name_of_DataFrame>.info()\n",
    "display(df.info())"
   ]
  },
  {
   "cell_type": "markdown",
   "id": "7d1b74ed",
   "metadata": {},
   "source": [
    "**Overview:**\n",
    "\n",
    "- Total number of observations/rows: 17964 \n",
    "- Total number of attributes/columns: 8\n",
    "- Total number of object (string/mixed) data type: 3 (model, transmission, fuelType)\n",
    "- Total number of integer (positive/negative/zero) data type: 3 (year, price, mileage)\n",
    "- Total number of float (floating point number) data type: 2 (mpg, engineSize)\n",
    "- No missing data"
   ]
  },
  {
   "cell_type": "markdown",
   "id": "cc54212a",
   "metadata": {},
   "source": [
    "### Descriptive Statistics"
   ]
  },
  {
   "cell_type": "code",
   "execution_count": 5,
   "id": "5568b1d7",
   "metadata": {},
   "outputs": [
    {
     "data": {
      "text/html": [
       "<div>\n",
       "<style scoped>\n",
       "    .dataframe tbody tr th:only-of-type {\n",
       "        vertical-align: middle;\n",
       "    }\n",
       "\n",
       "    .dataframe tbody tr th {\n",
       "        vertical-align: top;\n",
       "    }\n",
       "\n",
       "    .dataframe thead th {\n",
       "        text-align: right;\n",
       "    }\n",
       "</style>\n",
       "<table border=\"1\" class=\"dataframe\">\n",
       "  <thead>\n",
       "    <tr style=\"text-align: right;\">\n",
       "      <th></th>\n",
       "      <th>year</th>\n",
       "      <th>price</th>\n",
       "      <th>mileage</th>\n",
       "      <th>mpg</th>\n",
       "      <th>engineSize</th>\n",
       "    </tr>\n",
       "  </thead>\n",
       "  <tbody>\n",
       "    <tr>\n",
       "      <th>count</th>\n",
       "      <td>17964.000000</td>\n",
       "      <td>17964.000000</td>\n",
       "      <td>17964.000000</td>\n",
       "      <td>17964.000000</td>\n",
       "      <td>17964.000000</td>\n",
       "    </tr>\n",
       "    <tr>\n",
       "      <th>mean</th>\n",
       "      <td>2016.864173</td>\n",
       "      <td>12280.078435</td>\n",
       "      <td>23361.880149</td>\n",
       "      <td>57.907832</td>\n",
       "      <td>1.350824</td>\n",
       "    </tr>\n",
       "    <tr>\n",
       "      <th>std</th>\n",
       "      <td>2.024987</td>\n",
       "      <td>4741.318119</td>\n",
       "      <td>19471.243292</td>\n",
       "      <td>10.125632</td>\n",
       "      <td>0.432383</td>\n",
       "    </tr>\n",
       "    <tr>\n",
       "      <th>min</th>\n",
       "      <td>1996.000000</td>\n",
       "      <td>495.000000</td>\n",
       "      <td>1.000000</td>\n",
       "      <td>20.800000</td>\n",
       "      <td>0.000000</td>\n",
       "    </tr>\n",
       "    <tr>\n",
       "      <th>25%</th>\n",
       "      <td>2016.000000</td>\n",
       "      <td>8999.000000</td>\n",
       "      <td>9987.000000</td>\n",
       "      <td>52.300000</td>\n",
       "      <td>1.000000</td>\n",
       "    </tr>\n",
       "    <tr>\n",
       "      <th>50%</th>\n",
       "      <td>2017.000000</td>\n",
       "      <td>11291.000000</td>\n",
       "      <td>18242.500000</td>\n",
       "      <td>58.900000</td>\n",
       "      <td>1.200000</td>\n",
       "    </tr>\n",
       "    <tr>\n",
       "      <th>75%</th>\n",
       "      <td>2018.000000</td>\n",
       "      <td>15299.000000</td>\n",
       "      <td>31052.000000</td>\n",
       "      <td>65.700000</td>\n",
       "      <td>1.500000</td>\n",
       "    </tr>\n",
       "    <tr>\n",
       "      <th>max</th>\n",
       "      <td>2020.000000</td>\n",
       "      <td>54995.000000</td>\n",
       "      <td>177644.000000</td>\n",
       "      <td>201.800000</td>\n",
       "      <td>5.000000</td>\n",
       "    </tr>\n",
       "  </tbody>\n",
       "</table>\n",
       "</div>"
      ],
      "text/plain": [
       "               year         price        mileage           mpg    engineSize\n",
       "count  17964.000000  17964.000000   17964.000000  17964.000000  17964.000000\n",
       "mean    2016.864173  12280.078435   23361.880149     57.907832      1.350824\n",
       "std        2.024987   4741.318119   19471.243292     10.125632      0.432383\n",
       "min     1996.000000    495.000000       1.000000     20.800000      0.000000\n",
       "25%     2016.000000   8999.000000    9987.000000     52.300000      1.000000\n",
       "50%     2017.000000  11291.000000   18242.500000     58.900000      1.200000\n",
       "75%     2018.000000  15299.000000   31052.000000     65.700000      1.500000\n",
       "max     2020.000000  54995.000000  177644.000000    201.800000      5.000000"
      ]
     },
     "execution_count": 5,
     "metadata": {},
     "output_type": "execute_result"
    }
   ],
   "source": [
    "# Creating Descriptive Statistics table\n",
    "# <name_of_DataFrame>.describe()\n",
    "\n",
    "df.describe()"
   ]
  },
  {
   "cell_type": "markdown",
   "id": "95121456",
   "metadata": {},
   "source": [
    "**Observations**\n",
    " - 50% of the data was collected between 2017 and 2020.\n",
    " - The average price of used cars is \\\\$12280. The lowest price is \\\\$495 and highest price is  \\\\$54995 while half of the observations show price below \\\\$11291. \n",
    " - The mileage ranges from 1 to 177644, however, 75% of the observations shows mileage above 9987, with average at 23361.\n",
    " - The mpg varies from 20.8 to 201.\n",
    " - The engine size varies from 0 to 5L."
   ]
  },
  {
   "cell_type": "markdown",
   "id": "88fda963",
   "metadata": {},
   "source": [
    "### Listing the columns"
   ]
  },
  {
   "cell_type": "code",
   "execution_count": 6,
   "id": "77fbcf99",
   "metadata": {},
   "outputs": [
    {
     "name": "stdout",
     "output_type": "stream",
     "text": [
      "Index(['model', 'year', 'price', 'transmission', 'mileage', 'fuelType', 'mpg',\n",
      "       'engineSize'],\n",
      "      dtype='object')\n"
     ]
    }
   ],
   "source": [
    "print(df.columns)"
   ]
  },
  {
   "cell_type": "markdown",
   "id": "37fc78f3",
   "metadata": {},
   "source": [
    "### Identifying the feature and target variable"
   ]
  },
  {
   "cell_type": "code",
   "execution_count": 7,
   "id": "c2a19441",
   "metadata": {},
   "outputs": [
    {
     "name": "stdout",
     "output_type": "stream",
     "text": [
      "(17964, 4) (17964, 1)\n"
     ]
    }
   ],
   "source": [
    "features = ['mileage', 'year', 'mpg', 'engineSize']\n",
    "target = ['price']\n",
    "\n",
    "X = df[features]\n",
    "y = df[target]\n",
    "\n",
    "# printing the no. of rows and column used as feature and target variable.\n",
    "print(X.shape, y.shape)"
   ]
  },
  {
   "cell_type": "markdown",
   "id": "f812f6fd",
   "metadata": {},
   "source": [
    "### Splitting the train and test set"
   ]
  },
  {
   "cell_type": "code",
   "execution_count": 8,
   "id": "8180b978",
   "metadata": {},
   "outputs": [
    {
     "name": "stdout",
     "output_type": "stream",
     "text": [
      "(14371, 4) (3593, 4) (14371, 1) (3593, 1)\n"
     ]
    }
   ],
   "source": [
    "# x_train are the training dataset of feature variables\n",
    "# x_test are the testing dataset of feature variables\n",
    "# y_train are the training dataset of target variables\n",
    "# y_test are the testing dataset of target variables\n",
    "# Split into 80% train and 20% test\n",
    "# random_state = Pseudo random number, specified so that everytime the code is run, it uses the same observations in train and test set \n",
    "\n",
    "X_train, X_test, y_train, y_test = train_test_split(X, y, test_size=0.2, random_state=42)\n",
    "\n",
    "print(X_train.shape, X_test.shape, y_train.shape, y_test.shape)"
   ]
  },
  {
   "cell_type": "markdown",
   "id": "d9114e20",
   "metadata": {},
   "source": [
    "### Running Linear Regression Model"
   ]
  },
  {
   "cell_type": "code",
   "execution_count": 9,
   "id": "5ec44699",
   "metadata": {},
   "outputs": [],
   "source": [
    "model = LinearRegression()\n",
    "model = model.fit(X_train, y_train)"
   ]
  },
  {
   "cell_type": "code",
   "execution_count": 10,
   "id": "7aada9a4",
   "metadata": {},
   "outputs": [
    {
     "name": "stdout",
     "output_type": "stream",
     "text": [
      "[[12511.62021941]\n",
      " [11728.1369248 ]\n",
      " [12146.83147139]\n",
      " ...\n",
      " [ 7682.61502627]\n",
      " [ 5954.1544702 ]\n",
      " [16941.0886637 ]]\n"
     ]
    }
   ],
   "source": [
    "y_pred = model.predict(X_test)\n",
    "\n",
    "print(y_pred)"
   ]
  },
  {
   "cell_type": "code",
   "execution_count": 11,
   "id": "345b384b",
   "metadata": {},
   "outputs": [
    {
     "name": "stdout",
     "output_type": "stream",
     "text": [
      "       price\n",
      "1087   16700\n",
      "9367    9690\n",
      "4705   10999\n",
      "10336  29350\n",
      "8509   11250\n",
      "...      ...\n",
      "14866  13487\n",
      "11183  15299\n",
      "13788   5495\n",
      "17265   5685\n",
      "16043  16495\n",
      "\n",
      "[3593 rows x 1 columns]\n"
     ]
    }
   ],
   "source": [
    "print(y_test)"
   ]
  },
  {
   "cell_type": "markdown",
   "id": "d5fa5bab",
   "metadata": {},
   "source": [
    "### Finding the Root Mean Squared Error (RMSE) "
   ]
  },
  {
   "cell_type": "code",
   "execution_count": 12,
   "id": "035ad8d0",
   "metadata": {},
   "outputs": [
    {
     "name": "stdout",
     "output_type": "stream",
     "text": [
      "2471.5647447160777\n"
     ]
    }
   ],
   "source": [
    "# RMSE is the standard deviation of the residual error\n",
    "\n",
    "RMSE = mean_squared_error(y_test, y_pred, squared=False)\n",
    "print(RMSE)"
   ]
  },
  {
   "cell_type": "code",
   "execution_count": null,
   "id": "cd69be17",
   "metadata": {},
   "outputs": [],
   "source": []
  }
 ],
 "metadata": {
  "kernelspec": {
   "display_name": "Python 3 (ipykernel)",
   "language": "python",
   "name": "python3"
  },
  "language_info": {
   "codemirror_mode": {
    "name": "ipython",
    "version": 3
   },
   "file_extension": ".py",
   "mimetype": "text/x-python",
   "name": "python",
   "nbconvert_exporter": "python",
   "pygments_lexer": "ipython3",
   "version": "3.9.6"
  }
 },
 "nbformat": 4,
 "nbformat_minor": 5
}
